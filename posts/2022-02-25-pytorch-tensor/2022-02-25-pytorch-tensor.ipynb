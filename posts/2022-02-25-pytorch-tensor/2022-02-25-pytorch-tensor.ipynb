{
 "cells": [
  {
   "cell_type": "markdown",
   "id": "cabb596d-19c6-4b04-bbfe-6f79c382fb83",
   "metadata": {},
   "source": [
    "---\n",
    "title: \"PyTorch - 01_텐서(Tensor)\"\n",
    "description: \"PyTorch의 기본 구조인 텐서에 대해서 알아본다.\"\n",
    "date: \"2022-02-25\"\n",
    "draft: false\n",
    "categories:\n",
    "  - pytorch\n",
    "---"
   ]
  },
  {
   "cell_type": "markdown",
   "id": "d10004ad-4015-49f6-87e4-608eaac111d4",
   "metadata": {},
   "source": [
    "> Important: 본 내용은 [파이토치 한국 사용자 모임의 튜토리얼](https://tutorials.pytorch.kr/beginner/blitz/tensor_tutorial.html#attribute)의 내용이다."
   ]
  },
  {
   "cell_type": "markdown",
   "id": "12f3aca3-4216-419d-b006-412675314028",
   "metadata": {},
   "source": [
    "# 텐서(Tensor)\n",
    "텐서는 배열이나 행렬과 매우 유사한 자료구조.\n",
    "PyTorch에서는 텐서를 사용하여 모델의 입력과 출력뿐만 아니라 모델의 매개변수를 부호화(encode)한다.\n",
    "\n",
    "GPU나 다른 연삭 가속을 위한 특수한 하드웨어에서 실핼 수 있다는 점을 제외하면, 텐서는 NumPy의 ndarray와 매우 유사"
   ]
  },
  {
   "cell_type": "code",
   "execution_count": 1,
   "id": "c0c6e11b-a383-48d1-a047-cff5b93a55c8",
   "metadata": {},
   "outputs": [],
   "source": [
    "import torch\n",
    "import numpy as np"
   ]
  },
  {
   "cell_type": "markdown",
   "id": "83abc534-1f6a-464b-ba52-0d1c650ec011",
   "metadata": {},
   "source": [
    "# 텐서 초기화하기\n",
    "텐서는 여러가지 방법으로 초기화할 수 있음.\n",
    "### 데이터로부터 직접 생성하기\n",
    "데이터로부터 직접 텐서를 생서할 수 있음. 데이터의 자료형은 파이썬답게 자동으로 유추"
   ]
  },
  {
   "cell_type": "code",
   "execution_count": 3,
   "id": "a2044e2b-4341-42cd-aaab-50033b25b3d3",
   "metadata": {},
   "outputs": [
    {
     "data": {
      "text/plain": [
       "tensor([[1, 2],\n",
       "        [3, 4]])"
      ]
     },
     "execution_count": 3,
     "metadata": {},
     "output_type": "execute_result"
    }
   ],
   "source": [
    "data = [[1, 2], [3, 4]]\n",
    "x_data = torch.tensor(data)\n",
    "x_data"
   ]
  },
  {
   "cell_type": "markdown",
   "id": "ebe34a42-1b7b-46bd-bca3-44cd9ebcb7fe",
   "metadata": {},
   "source": [
    "### NumPy 배열로부터 생성하기\n",
    "텐서는 NumPy 배열로 생성할 수 있음(반대도 가능)"
   ]
  },
  {
   "cell_type": "code",
   "execution_count": 6,
   "id": "f658925b-0d66-42ca-848e-fdf6b20ed981",
   "metadata": {},
   "outputs": [
    {
     "name": "stdout",
     "output_type": "stream",
     "text": [
      "np_array: \n",
      " [[1 2]\n",
      " [3 4]] \n",
      "\n",
      "x_np: \n",
      " tensor([[1, 2],\n",
      "        [3, 4]]) \n",
      "\n"
     ]
    }
   ],
   "source": [
    "np_array = np.array(data)\n",
    "print(f\"np_array: \\n {np_array} \\n\")\n",
    "x_np = torch.from_numpy(np_array)\n",
    "print(f\"x_np: \\n {x_np} \\n\")"
   ]
  },
  {
   "cell_type": "markdown",
   "id": "3f288598-5dc7-44ba-b976-eadd89ffff1f",
   "metadata": {},
   "source": [
    "### 다른 텐서로부터 생성하기:\n",
    "명시적으로 재정의(override)하지 않는다면, 인자로 주어진 텐서의 속성(모양(shape), 자료형(datatype))을 유지함"
   ]
  },
  {
   "cell_type": "code",
   "execution_count": 5,
   "id": "cbe1b115-7169-490d-84e6-da4e96c03b56",
   "metadata": {},
   "outputs": [
    {
     "name": "stdout",
     "output_type": "stream",
     "text": [
      "Ones Tensor: \n",
      " tensor([[1, 1],\n",
      "        [1, 1]]) \n",
      "\n",
      "Random Tensor: \n",
      " tensor([[0.8193, 0.6105],\n",
      "        [0.0340, 0.1774]]) \n",
      "\n"
     ]
    }
   ],
   "source": [
    "x_ones = torch.ones_like(x_data) # x_data의 속성을 유지\n",
    "print(f\"Ones Tensor: \\n {x_ones} \\n\")\n",
    "\n",
    "x_rand = torch.rand_like(x_data, dtype=torch.float) # x_data의 속성을 덮어씁니다.\n",
    "print(f\"Random Tensor: \\n {x_rand} \\n\")"
   ]
  },
  {
   "cell_type": "markdown",
   "id": "2b972a23-cf0e-4cc2-886f-14bfa2d2b33a",
   "metadata": {},
   "source": [
    "### 무작위(random) 또는 상수(constant)값을 사용하기:\n",
    "`shape`은 텐서의 차원(dimension)을 나타내는 튜블(tuple)로, 아래 함수들에서는 출력 텐서의 차원을 결정함"
   ]
  },
  {
   "cell_type": "code",
   "execution_count": 7,
   "id": "aca6027f-6c16-4062-a045-983d81d73aaf",
   "metadata": {},
   "outputs": [
    {
     "name": "stdout",
     "output_type": "stream",
     "text": [
      "Random Tensor: \n",
      " tensor([[0.2498, 0.3496, 0.6278],\n",
      "        [0.3782, 0.6244, 0.9976]]) \n",
      "\n",
      "Ones Tensor: \n",
      " tensor([[1., 1., 1.],\n",
      "        [1., 1., 1.]]) \n",
      "\n",
      "Zeros Tensor: \n",
      " tensor([[0., 0., 0.],\n",
      "        [0., 0., 0.]])\n"
     ]
    }
   ],
   "source": [
    "shape = (2, 3,)\n",
    "rand_tensor = torch.rand(shape)\n",
    "ones_tensor = torch.ones(shape)\n",
    "zeros_tensor = torch.zeros(shape)\n",
    "\n",
    "print(f\"Random Tensor: \\n {rand_tensor} \\n\")\n",
    "print(f\"Ones Tensor: \\n {ones_tensor} \\n\")\n",
    "print(f\"Zeros Tensor: \\n {zeros_tensor}\")"
   ]
  },
  {
   "cell_type": "markdown",
   "id": "78d47a79-8d48-44ac-b819-c4c418afead2",
   "metadata": {},
   "source": [
    "# 텐서의 속성(Attribute)\n",
    "텐서의 속성은 텐서의 모양(shape), 자료형(datatype) 및 어느 장치에 저장되는지를 타나냄"
   ]
  },
  {
   "cell_type": "code",
   "execution_count": 8,
   "id": "e54befd0-78bb-4813-8042-77a123d9bd57",
   "metadata": {},
   "outputs": [
    {
     "name": "stdout",
     "output_type": "stream",
     "text": [
      "Shape of tensor: torch.Size([3, 4])\n",
      "Datatype of tensor: torch.float32\n",
      "Device tensor is stored on: cpu\n"
     ]
    }
   ],
   "source": [
    "tensor = torch.rand(3, 4)\n",
    "\n",
    "print(f\"Shape of tensor: {tensor.shape}\")\n",
    "print(f\"Datatype of tensor: {tensor.dtype}\")\n",
    "print(f\"Device tensor is stored on: {tensor.device}\")"
   ]
  },
  {
   "cell_type": "markdown",
   "id": "7011852f-898f-4c6c-a775-2e7c25227c84",
   "metadata": {
    "tags": []
   },
   "source": [
    "# 텐서 연산(Operation)\n",
    "전치(transposing), 인덱싱(indexing), 슬라이싱(slicing), 수학 계산, 선형 대수, 임의 샘플링(random sampling) 등, 100가지 이상의 텐서 연산들을 [여기](https://pytorch.org/docs/stable/torch.html)에서 확인할 수 있음"
   ]
  },
  {
   "cell_type": "code",
   "execution_count": 9,
   "id": "61ef6412-6320-4b7f-93f4-12821256a7e9",
   "metadata": {},
   "outputs": [
    {
     "name": "stdout",
     "output_type": "stream",
     "text": [
      "Device tensor is stored on: cuda:0\n"
     ]
    }
   ],
   "source": [
    "# GPU가 존재하면 텐서를 이동한다\n",
    "if torch.cuda.is_available():\n",
    "    tensor = tensor.to('cuda')\n",
    "    print(f\"Device tensor is stored on: {tensor.device}\")"
   ]
  },
  {
   "cell_type": "markdown",
   "id": "0d72db40-5b55-4aa4-b211-85ad3df7444a",
   "metadata": {},
   "source": [
    "목록에서 몇몇 연산들을 시도해보자, NumPy API에 익숙하다면 Tensor API를 사용하는 것은 식은 죽 먹기라는 것을 알게 된다.\n",
    "### NumPy식의 표준 인덱싱과 슬라이싱:"
   ]
  },
  {
   "cell_type": "code",
   "execution_count": 10,
   "id": "42827cf6-fd9d-4d76-abfd-5c306abe5fc9",
   "metadata": {},
   "outputs": [
    {
     "name": "stdout",
     "output_type": "stream",
     "text": [
      "tensor([[1., 0., 1., 1.],\n",
      "        [1., 0., 1., 1.],\n",
      "        [1., 0., 1., 1.],\n",
      "        [1., 0., 1., 1.]])\n"
     ]
    }
   ],
   "source": [
    "tensor = torch.ones(4, 4) # 1로 이루어진 4x4\n",
    "tensor[:, 1] = 0 # 2번쨰 열의 값에 0을 삽입\n",
    "print(tensor)"
   ]
  },
  {
   "cell_type": "markdown",
   "id": "6002abd4-e477-414f-b4df-6c7670cbf31a",
   "metadata": {},
   "source": [
    "### 텐서 합치기\n",
    "`torch.cat`을 사용하여 주어진 차원에 따라 일련의 텐서를 연결할 수 있음. `torch.cat`과 미묘하게 다른 또 다른 텐서 결함 연산인 [torch.stack](https://pytorch.org/docs/stable/generated/torch.stack.html)도 참고해보자"
   ]
  },
  {
   "cell_type": "code",
   "execution_count": 11,
   "id": "4291f034-ca0d-410d-a3c6-f5f96a53822c",
   "metadata": {},
   "outputs": [
    {
     "name": "stdout",
     "output_type": "stream",
     "text": [
      "tensor([[1., 0., 1., 1., 1., 0., 1., 1., 1., 0., 1., 1.],\n",
      "        [1., 0., 1., 1., 1., 0., 1., 1., 1., 0., 1., 1.],\n",
      "        [1., 0., 1., 1., 1., 0., 1., 1., 1., 0., 1., 1.],\n",
      "        [1., 0., 1., 1., 1., 0., 1., 1., 1., 0., 1., 1.]])\n"
     ]
    }
   ],
   "source": [
    "t1 = torch.cat([tensor, tensor, tensor], dim=1) # tensor 3개를 열로 연결\n",
    "print(t1)"
   ]
  },
  {
   "cell_type": "markdown",
   "id": "249f6aa1-f314-47ed-bf81-46b11ea5d6ca",
   "metadata": {},
   "source": [
    "### 텐서 곱하기"
   ]
  },
  {
   "cell_type": "code",
   "execution_count": 13,
   "id": "c1593522-d79f-4b48-a879-1beea9d7c4bc",
   "metadata": {},
   "outputs": [
    {
     "name": "stdout",
     "output_type": "stream",
     "text": [
      "tensor.mul(tensor) \n",
      " tensor([[1., 0., 1., 1.],\n",
      "        [1., 0., 1., 1.],\n",
      "        [1., 0., 1., 1.],\n",
      "        [1., 0., 1., 1.]]) \n",
      "\n",
      "tensor * tensor \n",
      " tensor([[1., 0., 1., 1.],\n",
      "        [1., 0., 1., 1.],\n",
      "        [1., 0., 1., 1.],\n",
      "        [1., 0., 1., 1.]])\n"
     ]
    }
   ],
   "source": [
    "# 요소별 곱(element-wise product)을 계산\n",
    "print(f\"tensor.mul(tensor) \\n {tensor.mul(tensor)} \\n\")\n",
    "# 다른 문법:\n",
    "print(f\"tensor * tensor \\n {tensor * tensor}\")\n",
    "\n",
    "#난 아래쪽이 직관적이고 편함"
   ]
  },
  {
   "cell_type": "markdown",
   "id": "3fdd7376-a6d7-4009-95fb-28dae7c6bd83",
   "metadata": {},
   "source": [
    "두 텐서간의 행렬 곱(matrix multiplication)을 계산"
   ]
  },
  {
   "cell_type": "code",
   "execution_count": 14,
   "id": "267368b7-d176-459c-a220-16c2976a6233",
   "metadata": {},
   "outputs": [
    {
     "name": "stdout",
     "output_type": "stream",
     "text": [
      "tensor.matmul(tensor.T) \n",
      " tensor([[3., 3., 3., 3.],\n",
      "        [3., 3., 3., 3.],\n",
      "        [3., 3., 3., 3.],\n",
      "        [3., 3., 3., 3.]]) \n",
      "\n",
      "tensor @ tensor.T \n",
      " tensor([[3., 3., 3., 3.],\n",
      "        [3., 3., 3., 3.],\n",
      "        [3., 3., 3., 3.],\n",
      "        [3., 3., 3., 3.]])\n"
     ]
    }
   ],
   "source": [
    "print(f\"tensor.matmul(tensor.T) \\n {tensor.matmul(tensor.T)} \\n\")\n",
    "# 다른 문법:\n",
    "print(f\"tensor @ tensor.T \\n {tensor @ tensor.T}\")"
   ]
  },
  {
   "cell_type": "markdown",
   "id": "7260cd36-ab9f-464b-bbbc-1f785c449f02",
   "metadata": {},
   "source": [
    "### 바꿔치기(in-place) 연산\n",
    "`_` 접미사를 갖는 연산들은 바꿔치기(in-place)연산임. 예를들어: `x.copy_()` 나 `x.t_()`는 `x`를 변경함"
   ]
  },
  {
   "cell_type": "code",
   "execution_count": 15,
   "id": "63f246a8-60a0-49dd-bbc0-d37dc8e3143e",
   "metadata": {},
   "outputs": [
    {
     "name": "stdout",
     "output_type": "stream",
     "text": [
      "tensor([[1., 0., 1., 1.],\n",
      "        [1., 0., 1., 1.],\n",
      "        [1., 0., 1., 1.],\n",
      "        [1., 0., 1., 1.]]) \n",
      "\n",
      "tensor([[6., 5., 6., 6.],\n",
      "        [6., 5., 6., 6.],\n",
      "        [6., 5., 6., 6.],\n",
      "        [6., 5., 6., 6.]])\n"
     ]
    }
   ],
   "source": [
    "print(tensor, \"\\n\")\n",
    "tensor.add_(5)\n",
    "print(tensor)"
   ]
  },
  {
   "cell_type": "markdown",
   "id": "e1ec43fa-a4d3-41c0-bff3-e1136da04eb9",
   "metadata": {},
   "source": [
    "> Note: 바꿔치기 연산은 메모리를 절약하지만, 기록이 즉시 삭제되어 계산에 문제가 발생할 수 있음, 따라서 신중하게 사용해야함.\n"
   ]
  },
  {
   "cell_type": "code",
   "execution_count": null,
   "id": "1af33197",
   "metadata": {},
   "outputs": [],
   "source": [
    "---"
   ]
  },
  {
   "cell_type": "markdown",
   "id": "7e69d1f0-a9a2-47eb-b64e-1a0ead1e13d9",
   "metadata": {},
   "source": [
    "# Numpy 변환(Bridge)\n",
    "cpu 상의 텐서와 NumPy 배열은 메모리 공간을 공유하기 때문에, 하나를 변경하면 다른 하나도 변경됨.\n",
    "이게 무슨말이냐면....\n",
    "## 텐서를 NumPy 배열로 변환하기"
   ]
  },
  {
   "cell_type": "code",
   "execution_count": 17,
   "id": "1e1c6dc0-5b25-4552-9cbf-5d45e7ac5a4c",
   "metadata": {},
   "outputs": [
    {
     "name": "stdout",
     "output_type": "stream",
     "text": [
      "t: tensor([1., 1., 1., 1., 1.])\n",
      "n: [1. 1. 1. 1. 1.]\n"
     ]
    }
   ],
   "source": [
    "t = torch.ones(5)\n",
    "print(f\"t: {t}\")\n",
    "n = t.numpy()\n",
    "print(f\"n: {n}\")"
   ]
  },
  {
   "cell_type": "markdown",
   "id": "5d6ff5aa-3514-4e20-aba2-e20dfc93fe82",
   "metadata": {},
   "source": [
    "텐서의 변경 사항이 NumPy 배열에 반영됨"
   ]
  },
  {
   "cell_type": "code",
   "execution_count": 18,
   "id": "2ca0194d-3866-4534-a5e7-a331302beb56",
   "metadata": {},
   "outputs": [
    {
     "name": "stdout",
     "output_type": "stream",
     "text": [
      "t: tensor([2., 2., 2., 2., 2.])\n",
      "n: [2. 2. 2. 2. 2.]\n"
     ]
    }
   ],
   "source": [
    "t.add_(1)\n",
    "print(f\"t: {t}\")\n",
    "print(f\"n: {n}\")"
   ]
  },
  {
   "cell_type": "markdown",
   "id": "965596fa-2486-453c-88bc-ca7cf0996ce3",
   "metadata": {},
   "source": [
    "## NumPy 배열을 텐서로 변환하기"
   ]
  },
  {
   "cell_type": "code",
   "execution_count": 19,
   "id": "bdb25fb9-d72f-4810-b905-679ed9d38c8d",
   "metadata": {},
   "outputs": [],
   "source": [
    "n = np.ones(5)\n",
    "t = torch.from_numpy(n) "
   ]
  },
  {
   "cell_type": "markdown",
   "id": "c02f8f08-87f8-4ac0-9f51-4ba5e7c9babd",
   "metadata": {},
   "source": [
    "NumPy 배열의 변경 사항이 텐서에 반영됩니다."
   ]
  },
  {
   "cell_type": "code",
   "execution_count": 20,
   "id": "d189f1be-9a6d-4432-8636-7fcfd98ad728",
   "metadata": {},
   "outputs": [
    {
     "name": "stdout",
     "output_type": "stream",
     "text": [
      "t: tensor([2., 2., 2., 2., 2.], dtype=torch.float64)\n",
      "n: [2. 2. 2. 2. 2.]\n"
     ]
    }
   ],
   "source": [
    "np.add(n, 1, out=n)\n",
    "print(f\"t: {t}\")\n",
    "print(f\"n: {n}\")"
   ]
  }
 ],
 "metadata": {
  "kernelspec": {
   "display_name": "Python 3.9.13 64-bit",
   "language": "python",
   "name": "python3"
  },
  "language_info": {
   "codemirror_mode": {
    "name": "ipython",
    "version": 3
   },
   "file_extension": ".py",
   "mimetype": "text/x-python",
   "name": "python",
   "nbconvert_exporter": "python",
   "pygments_lexer": "ipython3",
   "version": "3.9.13"
  },
  "vscode": {
   "interpreter": {
    "hash": "aee8b7b246df8f9039afb4144a1f6fd8d2ca17a180786b69acc140d282b71a49"
   }
  }
 },
 "nbformat": 4,
 "nbformat_minor": 5
}
